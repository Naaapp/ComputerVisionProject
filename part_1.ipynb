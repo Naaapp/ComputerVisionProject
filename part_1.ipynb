{
 "cells": [
  {
   "cell_type": "markdown",
   "metadata": {},
   "source": [
    "# <center>Part 1</center>"
   ]
  },
  {
   "cell_type": "markdown",
   "metadata": {},
   "source": [
    "**The code below up to 1.2 is taken from the TP and needs to be modified.**"
   ]
  },
  {
   "cell_type": "markdown",
   "metadata": {},
   "source": [
    "# Import"
   ]
  },
  {
   "cell_type": "code",
   "execution_count": null,
   "metadata": {
    "pycharm": {
     "is_executing": false
    }
   },
   "outputs": [],
   "source": [
    "import numpy as np                     # Numerical algorithms on arrays\n",
    "import cv2                             # OpenCV\n",
    "from matplotlib import pyplot as plt   # Plot library\n",
    "import matplotlib.cm as cm             # Image color map \n",
    "import edge_detector as ed             # A edge detector\n",
    "import segment_detector as sd          # A segment detector\n",
    "import imgTools                        # A image tools"
   ]
  },
  {
   "cell_type": "markdown",
   "metadata": {},
   "source": [
    "##   1.1. Loading and displaying OpenCV images"
   ]
  },
  {
   "cell_type": "code",
   "execution_count": null,
   "metadata": {
    "pycharm": {
     "is_executing": false
    }
   },
   "outputs": [],
   "source": [
    "# Load images\n",
    "building = cv2.imread('image_database/Building.png')\n",
    "building_gray = cv2.imread('image_database/Building.png', cv2.IMREAD_GRAYSCALE)\n",
    "road_gray = cv2.imread('image_database/Road.png', cv2.IMREAD_GRAYSCALE)\n",
    "road = cv2.imread('image_database/Road.png')"
   ]
  },
  {
   "cell_type": "code",
   "execution_count": null,
   "metadata": {
    "pycharm": {
     "is_executing": false
    },
    "scrolled": true
   },
   "outputs": [],
   "source": [
    "def display(title, img):\n",
    "    return imgTools.display(title, img)\n",
    "\n",
    "def multiDisplay(titles, imgs, imgPerLine):\n",
    "    return imgTools.multiDisplay(titles, imgs, imgPerLine)\n",
    "\n",
    "# Display the image\n",
    "multiDisplay(['Color image', 'Color image displayed in grayscale'], [building, road_gray], 2)"
   ]
  },
  {
   "cell_type": "markdown",
   "metadata": {},
   "source": [
    "## 1.2. Edge points extraction"
   ]
  },
  {
   "cell_type": "markdown",
   "metadata": {},
   "source": [
    "### 1.2.1 Morphological Gradient of Beucher"
   ]
  },
  {
   "cell_type": "markdown",
   "metadata": {},
   "source": [
    "Test different sizes of kernel. Nothing seems to be working well. The method is dropped without further research."
   ]
  },
  {
   "cell_type": "code",
   "execution_count": null,
   "metadata": {
    "pycharm": {
     "is_executing": false
    },
    "scrolled": true
   },
   "outputs": [],
   "source": [
    "# Choose the kernel for the Gradient of Beucher\n",
    "from ipywidgets import interact, fixed\n",
    "\n",
    "\n",
    "def update(kSize=2):\n",
    "    for img in [building_gray, road_gray] : \n",
    "        imgEdges = ed.gradientOfBeucher(img, kSize, kSize)\n",
    "        display('Edge extraction using Morphological Gradient of Beucher', imgEdges)\n",
    "\n",
    "interact(update, kSize = (0, 20, 1))\n",
    "\n",
    "GRADIENT_K_SIZE = 2"
   ]
  },
  {
   "cell_type": "markdown",
   "metadata": {},
   "source": [
    "### 1.2.2 Non linear Laplacian"
   ]
  },
  {
   "cell_type": "code",
   "execution_count": null,
   "metadata": {
    "scrolled": true
   },
   "outputs": [],
   "source": [
    "# Choose the kernel for the Gradient of Beucher\n",
    "from ipywidgets import interact, fixed\n",
    "\n",
    "\n",
    "def update(kSize=2):\n",
    "    for img in [building_gray, road_gray] : \n",
    "        imgEdges = ed.nonLinearLaplacian(img, kernel_type=cv2.MORPH_RECT, k1=kSize, k2=kSize)\n",
    "        display('Edge extraction using non linear Laplacian', imgEdges)\n",
    "\n",
    "interact(update, kSize = (0, 20, 1))\n",
    "\n",
    "GRADIENT_K_SIZE = 2"
   ]
  },
  {
   "cell_type": "code",
   "execution_count": null,
   "metadata": {
    "scrolled": true
   },
   "outputs": [],
   "source": [
    "# Test the previous one with different threshold\n",
    "from ipywidgets import interact, fixed\n",
    "\n",
    "\n",
    "def update(thresh=10):\n",
    "    for img in [building_gray, road_gray] : \n",
    "        imgEdges = ed.nonLinearLaplacian(img, kernel_type=cv2.MORPH_RECT, k1=GRADIENT_K_SIZE, k2=GRADIENT_K_SIZE)\n",
    "        threshValue, imgThresh = cv2.threshold(imgEdges,thresh,255,cv2.THRESH_BINARY)\n",
    "        display('Edge extraction using non linear Laplacian - Binary thresholding', imgThresh)\n",
    "\n",
    "interact(update, thresh = (0, 50, 2))"
   ]
  },
  {
   "cell_type": "markdown",
   "metadata": {
    "pycharm": {
     "name": "#%% md\n"
    }
   },
   "source": [
    "### 1.2.3 Canny algorithm\n",
    "\n",
    "Vanilla version"
   ]
  },
  {
   "cell_type": "code",
   "execution_count": null,
   "metadata": {
    "pycharm": {
     "is_executing": false,
     "name": "#%%\n"
    },
    "scrolled": true
   },
   "outputs": [],
   "source": [
    "imgsToDetect = [building, road, road_gray]\n",
    "imgsName = [\"Building\", \"Road\", \"Road gray\"]\n",
    "\n",
    "for i in range(len(imgsToDetect)):\n",
    "    imgEdges = ed.canny_vanilla(imgsToDetect[i])\n",
    "\n",
    "    display('Edge extraction using Canny algorithm - '+imgsName[i], imgEdges)\n",
    "\n",
    "\n"
   ]
  },
  {
   "cell_type": "code",
   "execution_count": null,
   "metadata": {
    "scrolled": true
   },
   "outputs": [],
   "source": [
    "# Canny with less details\n",
    "# Dilation can be used to thicken the edge detected\n",
    "\n",
    "\n",
    "def canny_less_details(img):\n",
    "    #imgEdges = ed.canny_gaussian_blur(img)\n",
    "    #return imgEdges\n",
    "    \n",
    "    # Downsize the image\n",
    "    lower_reso = cv2.pyrDown(img)\n",
    "    sigma = 5\n",
    "    kSize = 3\n",
    "    \n",
    "    # Apply gaussian blur\n",
    "    lower_reso = cv2.GaussianBlur(lower_reso, (kSize,kSize), sigma)\n",
    "\n",
    "    # Upsize the image\n",
    "    higher_reso = cv2.pyrUp(lower_reso)\n",
    "    \n",
    "    \n",
    "    # apply automatic Canny edge detection using the computed median\n",
    "    med = np.median(higher_reso)\n",
    "    sigma = 0\n",
    "    lo_thresh = int(max(0, (1.0 - sigma) * med))\n",
    "    lo_thresh = 0\n",
    "    hi_thresh = int(min(255, (1.0 + sigma) * med))\n",
    "        \n",
    "    return cv2.Canny(higher_reso, lo_thresh, hi_thresh)\n",
    "\n",
    "imgsToDetect = [building, road]\n",
    "imgsName = [\"Building\", \"Road\"]\n",
    "\n",
    "for i in range(len(imgsToDetect)):\n",
    "    imgEdges = canny_less_details(imgsToDetect[i])\n",
    "\n",
    "    display('Edge extraction using Canny algorithm - '+imgsName[i], imgEdges)"
   ]
  },
  {
   "cell_type": "markdown",
   "metadata": {},
   "source": [
    "## 1.3. Segments and endpoints detection"
   ]
  },
  {
   "cell_type": "markdown",
   "metadata": {},
   "source": [
    "### 1.3.1. Probabilistic Hough Transform"
   ]
  },
  {
   "cell_type": "code",
   "execution_count": null,
   "metadata": {
    "pycharm": {
     "is_executing": false
    },
    "scrolled": true
   },
   "outputs": [],
   "source": [
    "THRESH_VALUE = 10\n",
    "def edgesDetectionFinal(img):\n",
    "    #imgEdges = ed.canny_gaussian_blur(img)\n",
    "    #return imgEdges\n",
    "    \n",
    "    # Downsize the image\n",
    "    lower_reso = cv2.pyrDown(img)\n",
    "    sigma = 5\n",
    "    kSize = 3\n",
    "    \n",
    "    # Apply gaussian blur\n",
    "    lower_reso = cv2.GaussianBlur(lower_reso, (kSize,kSize), sigma)\n",
    "\n",
    "    # Upsize the image\n",
    "    higher_reso = cv2.pyrUp(lower_reso)\n",
    "    \n",
    "    \n",
    "    # apply automatic Canny edge detection using the computed median\n",
    "    med = np.median(higher_reso)\n",
    "    sigma = 0\n",
    "    lo_thresh = int(max(0, (1.0 - sigma) * med))\n",
    "    lo_thresh = 0\n",
    "    hi_thresh = int(min(255, (1.0 + sigma) * med))\n",
    "        \n",
    "    return cv2.Canny(higher_reso, lo_thresh, hi_thresh)\n",
    "\n",
    "\n",
    "# TODO change the fct for the edge detection to the one giving the best result previously\n",
    "lines, segWithEdges, seg = sd.segHough(building, edgesDetectionFinal, rho=1, theta=np.pi / 180, thresh=20, minLineLen=15,\n",
    "                                       maxLineGap=4, kSize=2)\n",
    "display('Segment detection - Probabilistic Hough transform', seg)\n",
    "display('Segment detection - Probabilistic Hough transform - with previosu edges', segWithEdges)"
   ]
  },
  {
   "cell_type": "code",
   "execution_count": null,
   "metadata": {
    "scrolled": true
   },
   "outputs": [],
   "source": [
    "# Test the previous one with different threshold\n",
    "from ipywidgets import interact, fixed\n",
    "\n",
    "def update(rho=1, thresh=20, minLineLen=10, maxLineGap=4, kSize=2):\n",
    "    for img in [building]:#[building, road] : \n",
    "        lines, segWithEdges, seg = sd.segHough(img, edgesDetectionFinal, rho, np.pi / 180, thresh, minLineLen,\n",
    "                                        maxLineGap, kSize)\n",
    "        display('Seg extraction', segWithEdges)\n",
    "        display('Seg extraction without image behind', seg)\n",
    "\n",
    "interact(update, rho = (0,10,1), thresh = (0, 50, 2), minLineLen=(0,100,5), maxLineGap=(0,20,1), kSize=(0,20,1))"
   ]
  },
  {
   "cell_type": "markdown",
   "metadata": {
    "pycharm": {
     "name": "#%% md\n"
    }
   },
   "source": [
    "### 1.3.2 Line Segment Detection algorithm\n",
    "\n",
    "LSD is a algorithm initially written by french researchers  (Grompone R. & all) in C++ with openCV alongside a paper publish in the IPOL journal (\"LSD: a Line Segment Detector\", 2012) . It consists in a set of operation designed to work on most of grey images without required parameters tuning. We have used the given Python C++ binding (**pylsd**)\n",
    "\n",
    "The algorithm consist in several defined steps:\n",
    "\n",
    "<u>Image scaling:</u> At first, LSD proceed to a 80% scaling of the input image. This is useful to reduce noise (relating to gradient threshold for edge candidates) and to avoid aliasing and quantification artefacts, especially the staircase effect. The scale factor was empirically chosen to resolve the staircase effect. The sub-sampling of the image is done thanks to a Gaussian kernel of $\\sigma=0.75$, according to the paper, this sigma value is a good trade-off between avoiding aliasing and avoiding image blurring.\n",
    "\n",
    "<u>Gradient computation:</u> The main goal is to state the orientation and the magnitude of colour gradient for each pixel. To do so, the algorithm proceed to a simple 2x2 size kernel operation and define the *x* and *y* gradients, orientation and magnitude as follow ( i(x,y) => grey level of pixel (x,y) ):\n",
    "\n",
    "$G_x(x,y)=\\frac{i(x+1,y) + i(x+1,y+1) - i(x,y) - i(x,y+1)}{2}$\n",
    "\n",
    "$G_y(x,y)=\\frac{i(x,y+1) + i(x+1,y+1) - i(x,y) - i(x+1,y)}{2}$   \n",
    "\n",
    "$\\text{level-line angle = }arctan(\\frac{G_x(x,y)}{-G_y(x,y)})$\n",
    "\n",
    "$\\text{Magnitude = } \\sqrt{G^2_x(x,y) + G^2_y(x,y)}$\n",
    "\n",
    "When the magnitudes are known, the less significant ones are dropped compare to the range observed. The algorithm then focus directly on the edges. This make it sensible to noise in relatively homogeneous image. For instance, a slight shadow on a white paper with a black point.  \n",
    "\n",
    "<u>Region Growing:</u> It starts with the highest gradient pixel and proceed to an 8-neighbours flooding recursive call. All the pixels in the neighbour having the same orientation than the current proceeding region up to given tolerance (22.5°) are added to the region. At the end, the region will be composed of a group of pixel and will be surround by a rectangle to draw the line segment. The region orientation is initialised by the first pixel level-line angle. Then, each time a pixel is added, it updates its orientation with the following formula.\n",
    "\n",
    "$\\text{new region orientation = } arctan(\\frac{\\sum_{(x,y)\\in Neighbour}sin(level-line-angle_{(x,y)})}{\\sum_{(x,y)\\in Neighbour} cos(level-line-angle_{(x,y)}})$\n",
    "\n",
    "<u>Rectangular Approximation:</u> The determined regions are treated individually as solid object. The centre of mass of a region is computed with the magnitudes of the corresponding pixels. The dimensions of the rectangle are chosen to be the smallest possible dimension containing all the region pixel. Like in the \"Mecanique des matériaux\" course, the orientation of the rectangle is chosen to make it having the smallest inertia possible (Having the smallest inertia according to the main axis). It corresponds to the angle of the eigenvector associated with the smallest eigenvalue of the matrix:\n",
    "\n",
    "$M=(\\begin{matrix}m_{xx}&m_{xy} \\\\ m_{yx}&m_{yy} \\end{matrix})$ with \n",
    "\n",
    "$m_{xx} = \\frac{\\sum_{(x,y)\\in Region} Magnitude(x,y) . (x\\_comp(x,y) - c_x)^2 }{\\sum_{(x,y)\\in Region} Magnitude(x,y)}$ \n",
    "\n",
    "$m_{yy} = \\frac{\\sum_{(x,y)\\in Region} Magnitude(x,y) . (y\\_comp(x,y) - c_y)^2 }{\\sum_{(x,y)\\in Region} Magnitude(x,y)}$ \n",
    "\n",
    "$m_{xx} = \\frac{\\sum_{(x,y)\\in Region} Magnitude(x,y) . (x\\_comp(x,y) - c_x)(y\\_comp(x,y) - c_y) }{\\sum_{(x,y)\\in Region} Magnitude(x,y)}$ \n"
   ]
  },
  {
   "cell_type": "markdown",
   "metadata": {
    "pycharm": {
     "name": "#%% md\n"
    }
   },
   "source": [
    "### 1.3.2 Line Segment Detection algorithm\n",
    "\n",
    "LSD is a algorithm initially written by french researchers  (Grompone R. & all) in C++ with openCV alongside a paper publish in the IPOL journal (\"LSD: a Line Segment Detector\", 2012) . It consists in a set of operation designed to work on most of grey images without required parameters tuning. We have used the given Python C++ binding (**pylsd**)\n",
    "\n",
    "The algorithm consist in several defined steps:\n",
    "\n",
    "<u>Image scaling:</u> At first, LSD proceed to a 80% scaling of the input image. This is useful to reduce noise (relating to gradient threshold for edge candidates) and to avoid aliasing and quantification artefacts, especially the staircase effect. The scale factor was empirically chosen to resolve the staircase effect. The sub-sampling of the image is done thanks to a Gaussian kernel of $\\sigma=0.75$, according to the paper, this sigma value is a good trade-off between avoiding aliasing and avoiding image blurring.\n",
    "\n",
    "<u>Gradient computation:</u> The main goal is to state the orientation and the magnitude of colour gradient for each pixel. To do so, the algorithm proceed to a simple 2x2 size kernel operation and define the *x* and *y* gradients, orientation and magnitude as follow ( i(x,y) => grey level of pixel (x,y) ):\n",
    "\n",
    "$G_x(x,y)=\\frac{i(x+1,y) + i(x+1,y+1) - i(x,y) - i(x,y+1)}{2}$\n",
    "\n",
    "$G_y(x,y)=\\frac{i(x,y+1) + i(x+1,y+1) - i(x,y) - i(x+1,y)}{2}$   \n",
    "\n",
    "$\\text{level-line angle = }arctan(\\frac{G_x(x,y)}{-G_y(x,y)})$\n",
    "\n",
    "$\\text{Magnitude = } \\sqrt{G^2_x(x,y) + G^2_y(x,y)}$\n",
    "\n",
    "When the magnitudes are known, the less significant ones are dropped compare to the range observed. The algorithm then focus directly on the edges. This make it sensible to noise in relatively homogeneous image. For instance, a slight shadow on a white paper with a black point.  \n",
    "\n",
    "<u>Region Growing:</u> It starts with the highest gradient pixel and proceed to an 8-neighbours flooding recursive call. All the pixels in the neighbour having the same orientation than the current proceeding region up to given tolerance (22.5°) are added to the region. At the end, the region will be composed of a group of pixel and will be surround by a rectangle to draw the line segment. The region orientation is initialised by the first pixel level-line angle. Then, each time a pixel is added, it updates its orientation with the following formula.\n",
    "\n",
    "$\\text{new region orientation = } arctan(\\frac{\\sum_{(x,y)\\in Neighbour}sin(level-line-angle_{(x,y)})}{\\sum_{(x,y)\\in Neighbour} cos(level-line-angle_{(x,y)}})$\n",
    "\n",
    "<u>Rectangular Approximation:</u> The determined regions are treated individually as solid object. The centre of mass of a region is computed with the magnitudes of the corresponding pixels. The dimensions of the rectangle are chosen to be the smallest possible dimension containing all the region pixel. Like in the \"Mecanique des matériaux\" course, the orientation of the rectangle is chosen to make it having the smallest inertia possible (Having the smallest inertia according to the main axis). It corresponds to the angle of the eigenvector associated with the smallest eigenvalue of the matrix:\n",
    "\n",
    "$M=(\\begin{matrix}m_{xx}&m_{xy} \\\\ m_{yx}&m_{yy} \\end{matrix})$ with \n",
    "\n",
    "$m_{xx} = \\frac{\\sum_{(x,y)\\in Region} Magnitude(x,y) . (x\\_comp(x,y) - c_x)^2 }{\\sum_{(x,y)\\in Region} Magnitude(x,y)}$ \n",
    "\n",
    "$m_{yy} = \\frac{\\sum_{(x,y)\\in Region} Magnitude(x,y) . (y\\_comp(x,y) - c_y)^2 }{\\sum_{(x,y)\\in Region} Magnitude(x,y)}$ \n",
    "\n",
    "$m_{xx} = \\frac{\\sum_{(x,y)\\in Region} Magnitude(x,y) . (x\\_comp(x,y) - c_x)(y\\_comp(x,y) - c_y) }{\\sum_{(x,y)\\in Region} Magnitude(x,y)}$ \n"
   ]
  },
  {
   "cell_type": "code",
   "execution_count": null,
   "metadata": {
    "pycharm": {
     "is_executing": false,
     "name": "#%%\n"
    }
   },
   "outputs": [],
   "source": [
    "# import lsd algorithm\n",
    "from LSD import lsd_alg\n",
    "\n",
    "display('Line Segment Detection with LSD - Road', lsd_alg(road_gray) )\n",
    "\n",
    "display('Line Segment Detection with LSD - Building', lsd_alg(building_gray) )\n",
    "\n",
    "display('Line Segment Detection with LSD - Road 1 pixel forced', lsd_alg(road_gray, line_width=1) )\n",
    "\n",
    "display('Line Segment Detection with LSD - Building 1 pixel forced', lsd_alg(building_gray, line_width=1) )"
   ]
  },
  {
   "attachments": {
    "part1_project_Hough_space.png": {
     "image/png": "[encoded data removed]"
    }
   },
   "cell_type": "markdown",
   "metadata": {},
   "source": [
    "### 1.3.3 Fusing adjacent segments\n",
    "\n",
    "The segment detection used previously is not prefect. One of the imprefection lays in the fact of mutliple segments drawn close to each other to describe the same unique edge. In order to solve this problem, 'close segments' will be fused together.\n",
    "\n",
    "The segments detected are given in the cartesian space with its two endpoints which makes it difficult to characterize the closeness of two edges. In contrast, the Hough space can easily describe the distance between two segments and fuse them if needed. Thus, the idea of the algorithm is to map the segments in a variant of the Hough space, fuse all close segments then map the segments back to the cartesian space.\n",
    "\n",
    "#### Mapping from cartesian to a variant of the Hough space\n",
    "\n",
    "Let's take the example of one segment described by the two points: $A = (a_v, a_h)$ and $B = (b_v, b_h)$ where $(i,j)$ is the point with $i$ in vertical value and $j$ in horizontal values and the origin is fixed at the top left corner of the image.\n",
    "\n",
    "The Hough space will be described by 4 values : $\\theta, \\rho, p, d$\n",
    "\n",
    "![part1_project_Hough_space.png](attachment:part1_project_Hough_space.png)\n",
    "\n",
    "By convention, $A$ will be such that $a_h < b_h$.\n",
    "\n",
    "**Computing $\\theta$**\n",
    "\n",
    "$$\\theta = arctan \\Big(\\frac{|b_v - a_v|}{|b_h-a_h|} \\Big)$$\n",
    "\n",
    "Then we want to have $\\theta \\in ]\\pi/2, \\pi [$ if the slope of the line is decreasing, thus : \n",
    "\n",
    "$$\\theta_{final} = \\pi - \\theta \\quad \\text{ if $a_v < b_v$}$$\n",
    "\n",
    "**Computing $\\rho$**\n",
    "\n",
    "$$\\rho = \\frac{|| \\overrightarrow{AB} \\times \\overrightarrow{OA} ||}{|| \\overrightarrow{AB} ||}$$\n",
    "\n",
    "$\\rho$ must be lower than zero  when $c_h < 0$. However, $c_h$ has not been computed yet. Thus, the intersection between the line and $x = 0$ will be computed instead. If, this point has a horizontal value lower than 0, it means $c_h < 0$ and thus $\\rho < 0$. \n",
    "\n",
    "$$\\quad \\left\\{\n",
    "    \\begin{array}{ll}\n",
    "      y = mx+n \\\\\n",
    "      x  = 0\n",
    "    \\end{array}\n",
    "  \\right.$$ \n",
    "$$\\Leftrightarrow \\left\\{\n",
    "    \\begin{array}{ll}\n",
    "      y = \\frac{a_h-b_h}{a_v-b_v}x+(a_h - a_v \\frac{a_h-b_h}{a_v-b_v}) \\\\\n",
    "      x  = 0\n",
    "    \\end{array}\n",
    "  \\right.$$ \n",
    "$$\\Leftrightarrow \\left\\{\n",
    "    \\begin{array}{ll}\n",
    "      y = a_h - a_v \\frac{a_h-b_h}{a_v-b_v} \\\\\n",
    "      x  = 0\n",
    "    \\end{array}\n",
    "  \\right.$$ \n",
    "\n",
    "Thus, $$\\rho_{final} = - \\rho \\quad \\text{ if $a_h - a_v \\frac{a_h-b_h}{a_v-b_v} < 0$}$$\n",
    "\n",
    "\n",
    "**Computing C**\n",
    "$$c_v = \\rho * cos(\\theta)$$\n",
    "$$c_h = \\rho * sin(\\theta)$$\n",
    "\n",
    "**Computing $p$ and $d$**\n",
    "$$p = \\left\\{\n",
    "        \\begin{array}{ll}\n",
    "          -sign(c_h-a_h) * ||\\overrightarrow{AC}|| & \\text{ if } a_h < b_h \\text{ or } (a_h = b_h \\text{ & } a_v > b_v) \\\\\n",
    "          -sign(c_h-b_h) * ||\\overrightarrow{BC}|| & \\text{ else }\n",
    "        \\end{array}\n",
    "      \\right.$$\n",
    "$$d = ||\\overrightarrow{AB}||$$\n",
    "\n",
    "\n",
    "#### Mapping back from the variant of the Hough space to  the cartesian space\n",
    "This action allows to go back in the cartesian space after fusing the close segments.\n",
    "\n",
    "**Computing C**\n",
    "$$c_v = \\rho * cos(\\theta)$$\n",
    "$$c_h = \\rho * sin(\\theta)$$\n",
    "\n",
    "**Computing A and B**\n",
    "$$A : \\left\\{\n",
    "        \\begin{array}{ll}\n",
    "          a_v =  c_v - sign(\\frac{\\pi}{2}-\\theta) * p * sin(\\theta)\\\\\n",
    "          a_h =  c_h + sign(\\frac{\\pi}{2}-\\theta) * p * cos(\\theta)\n",
    "        \\end{array}\n",
    "      \\right.$$\n",
    "$$B : \\left\\{\n",
    "        \\begin{array}{ll}\n",
    "          b_v = c_v - sign(\\frac{\\pi}{2}-\\theta) * (p+d) * sin(\\theta) \\\\\n",
    "          b_h = c_h + sign(\\frac{\\pi}{2}-\\theta) * (p+d) * cos(\\theta)\n",
    "        \\end{array}\n",
    "      \\right.$$\n",
    "\n",
    "#### Fusing two segments\n",
    "Two segments will be fused together if they fulfill the conditions below:\n",
    "\n",
    "$$\\left\\{\n",
    "        \\begin{array}{ll}\n",
    "          \\Big| \\theta_1-\\theta_2\\Big| \\leq \\Delta_{\\theta}\\\\\n",
    "          \\Big| \\rho_1-\\rho_2\\Big| \\leq \\Delta_{\\rho}\\\\\n",
    "          \\Big( p_1 \\leq p_2 \\quad \\text{ & } \\quad p_1+d_1 > p_2 \\Big) \\text{ or }\n",
    "\t\t\t\t    \\Big( p_2 \\leq p_1  \\quad \\text{ & } \\quad  p_2+d_2 > p_1 \\Big)\n",
    "        \\end{array}\n",
    "      \\right.$$\n",
    "\n",
    "The two first conditions are restricting the orientation and position of the lines extending the segments while the last one restrict the position of the segment on the line.\n",
    "\n",
    "\n",
    "Then to fuse two segments, the two segments are removed and a new one is created with the following values:\n",
    "\n",
    "$$\\left\\{\n",
    "        \\begin{array}{ll}\n",
    "          \\theta_n = \\frac{\\theta_1+\\theta_2}{2}\\\\\n",
    "          \\rho_n = \\frac{\\rho_1+\\rho_2}{2}\\\\\n",
    "          p_n = min(p_1, p_2)\\\\\n",
    "          d_n = max(p_1+d_1, p_2+d_2) - p_n\n",
    "        \\end{array}\n",
    "      \\right.$$\n",
    "\n"
   ]
  },
  {
   "cell_type": "code",
   "execution_count": null,
   "metadata": {
    "scrolled": true
   },
   "outputs": [],
   "source": [
    "lines, segWithEdge, seg = sd.segHough(building, canny_less_details, rho=1, theta=np.pi / 180, thresh=20, \n",
    "                                      minLineLen=15, maxLineGap=4, kSize=2)\n",
    "\n",
    "def update(dRho=1, dTheta=1/360*np.pi*2):\n",
    "    lines2, segWithEdge2, seg2 = sd.segHough(building, canny_less_details, rho=1, theta=np.pi / 180, thresh=20, \n",
    "                                             minLineLen=15, maxLineGap=4, kSize=2, fuse=True, dTheta=dTheta,\n",
    "                                             dRho = dRho)\n",
    "    multiDisplay([f\"Segments with previously detected edges - {len(lines)} segments\", \n",
    "                  f\"Segments with previously detected edges - {len(lines2)} segments - segments fused\",\n",
    "                  f\"Segments - {len(lines)} segments\",\n",
    "                  f\"Segments - {len(lines2)} segments - segments fused\"],\n",
    "                 np.array([segWithEdge, segWithEdge2, seg, seg2]), 2)\n",
    "    display(f\"Segments - {len(lines2)} segments - segments fused\",\n",
    "             seg2)\n",
    "\n",
    "interact(update, dRho = (0,10,1), dTheta = (1/360*np.pi*2, 20/360*np.pi*2, 1/360*np.pi*2))"
   ]
  },
  {
   "cell_type": "markdown",
   "metadata": {},
   "source": [
    "## 1.4. Segments and endpoints classification"
   ]
  },
  {
   "cell_type": "code",
   "execution_count": null,
   "metadata": {},
   "outputs": [],
   "source": [
    "seg, edges, line_edges, not_line_edges = ec.edge_classifier(building)\n",
    "display('Segment classification - Segments',seg)\n",
    "display('Segment classification - Edges', edges)\n",
    "display('Segment classification - Segment Edges', line_edges)\n",
    "display('Segment classification - Not Segment Edges', not_line_edges)\n"
   ]
  },
  {
   "cell_type": "markdown",
   "metadata": {},
   "source": [
    "## 1.5. Evaluation on databases"
   ]
  },
  {
   "cell_type": "code",
   "execution_count": null,
   "metadata": {
    "scrolled": true
   },
   "outputs": [],
   "source": [
    "# Getting the images\n",
    "\n",
    "import os\n",
    "sudoku = []\n",
    "soccer = []\n",
    "road = []\n",
    "pcb = []\n",
    "building = []\n",
    "\n",
    "sudokuFolder = 'image_database/sudoku'\n",
    "soccerFolder = 'image_database/soccer'\n",
    "roadFolder = 'image_database/road'\n",
    "pcbFolder = 'image_database/pcb'\n",
    "buildingFolder = 'image_database/building'\n",
    "\n",
    "sudokuNames = sorted([img for img in os.listdir(sudokuFolder) if img.endswith(\".png\")]) # ref : https://www.geeksforgeeks.org/python-create-video-using-multiple-images-using-opencv/\n",
    "for name in sudokuNames:\n",
    "   sudoku.append(cv2.imread(sudokuFolder+'/'+name))\n",
    "\n",
    "soccerNames = sorted([img for img in os.listdir(soccerFolder) if img.endswith(\".png\")]) # ref : https://www.geeksforgeeks.org/python-create-video-using-multiple-images-using-opencv/\n",
    "for name in soccerNames:\n",
    "   soccer.append(cv2.imread(soccerFolder+'/'+name))\n",
    "\n",
    "roadNames = sorted([img for img in os.listdir(roadFolder) if img.endswith(\".png\")]) # ref : https://www.geeksforgeeks.org/python-create-video-using-multiple-images-using-opencv/\n",
    "for name in roadNames:\n",
    "   road.append(cv2.imread(roadFolder+'/'+name))\n",
    "\n",
    "buildingNames = sorted([img for img in os.listdir(buildingFolder) if img.endswith(\".png\")]) # ref : https://www.geeksforgeeks.org/python-create-video-using-multiple-images-using-opencv/\n",
    "for name in buildingNames:\n",
    "   building.append(cv2.imread(buildingFolder+'/'+name))\n",
    "\n",
    "pcbNames = sorted([img for img in os.listdir(pcbFolder) if img.endswith(\".png\")]) # ref : https://www.geeksforgeeks.org/python-create-video-using-multiple-images-using-opencv/\n",
    "for name in pcbNames:\n",
    "   pcb.append(cv2.imread(pcbFolder+'/'+name))"
   ]
  },
  {
   "cell_type": "markdown",
   "metadata": {},
   "source": [
    "### 1.5.1. Sudoku"
   ]
  },
  {
   "cell_type": "code",
   "execution_count": null,
   "metadata": {
    "scrolled": true
   },
   "outputs": [],
   "source": [
    "for i in range(10):\n",
    "    lines2, segWithEdge2, seg2 = sd.segHough(sudoku[i], canny_less_details, rho=1, theta=np.pi / 180, thresh=20, \n",
    "                                             minLineLen=15, maxLineGap=4, kSize=2, fuse=True, dTheta=1/360*np.pi*2,\n",
    "                                             dRho = 2)\n",
    "    display(f\"{sudokuNames[i]} - {len(lines2)} segments\",seg2)"
   ]
  },
  {
   "cell_type": "markdown",
   "metadata": {},
   "source": [
    "### 1.5.2. Soccer"
   ]
  },
  {
   "cell_type": "code",
   "execution_count": null,
   "metadata": {
    "scrolled": true
   },
   "outputs": [],
   "source": [
    "for i in range(10):\n",
    "    lines2, segWithEdge2, seg2 = sd.segHough(soccer[i], canny_less_details, rho=1, theta=np.pi / 180, thresh=20, \n",
    "                                             minLineLen=15, maxLineGap=4, kSize=2, fuse=True, dTheta=1/360*np.pi*2,\n",
    "                                             dRho = 2)\n",
    "    display(f\"{soccerNames[i]} - {len(lines2)} segments\",seg2)"
   ]
  },
  {
   "cell_type": "markdown",
   "metadata": {},
   "source": [
    "### 1.5.3. Road"
   ]
  },
  {
   "cell_type": "code",
   "execution_count": null,
   "metadata": {
    "scrolled": true
   },
   "outputs": [],
   "source": [
    "for i in range(10):\n",
    "    lines2, segWithEdge2, seg2 = sd.segHough(road[i], canny_less_details, rho=1, theta=np.pi / 180, thresh=20, \n",
    "                                             minLineLen=15, maxLineGap=4, kSize=2, fuse=True, dTheta=1/360*np.pi*2,\n",
    "                                             dRho = 2)\n",
    "    display(f\"{roadNames[i]} - {len(lines2)} segments\",seg2)"
   ]
  },
  {
   "cell_type": "markdown",
   "metadata": {},
   "source": [
    "### 1.5.4. Pcb"
   ]
  },
  {
   "cell_type": "code",
   "execution_count": null,
   "metadata": {
    "scrolled": true
   },
   "outputs": [],
   "source": [
    "for i in range(10):\n",
    "    lines2, segWithEdge2, seg2 = sd.segHough(pcb[i], canny_less_details, rho=1, theta=np.pi / 180, thresh=20, \n",
    "                                             minLineLen=15, maxLineGap=4, kSize=2, fuse=True, dTheta=2/360*np.pi*2,\n",
    "                                             dRho = 2)\n",
    "    display(f\"{pcbNames[i]} - {len(lines2)} segments\",seg2)"
   ]
  },
  {
   "cell_type": "markdown",
   "metadata": {},
   "source": [
    "### 1.5.5. Building"
   ]
  },
  {
   "cell_type": "code",
   "execution_count": null,
   "metadata": {
    "scrolled": true
   },
   "outputs": [],
   "source": [
    "for i in range(10):\n",
    "    lines2, segWithEdge2, seg2 = sd.segHough(building[i], canny_less_details, rho=1, theta=np.pi / 180, thresh=20, \n",
    "                                             minLineLen=15, maxLineGap=4, kSize=2, fuse=True, dTheta=1/360*np.pi*2,\n",
    "                                             dRho = 2)\n",
    "    display(f\"{buildingNames[i]} - {len(lines2)} segments\",seg2)"
   ]
  }
 ],
 "metadata": {
  "kernelspec": {
   "display_name": "Python 3",
   "language": "python",
   "name": "python3"
  },
  "language_info": {
   "codemirror_mode": {
    "name": "ipython",
    "version": 3
   },
   "file_extension": ".py",
   "mimetype": "text/x-python",
   "name": "python",
   "nbconvert_exporter": "python",
   "pygments_lexer": "ipython3",
   "version": "3.6.5"
  },
  "pycharm": {
   "stem_cell": {
    "cell_type": "raw",
    "metadata": {
     "collapsed": false
    },
    "source": []
   }
  }
 },
 "nbformat": 4,
 "nbformat_minor": 2
}
