{
 "cells": [
  {
   "cell_type": "markdown",
   "metadata": {},
   "source": [
    "# <center>Part 1</center>\n"
   ]
  },
  {
   "cell_type": "markdown",
   "metadata": {},
   "source": [
    "# Import\n",
    "**How to install pylsd binding**\n",
    "\n",
    " \n",
    "\n",
    "```bash\n",
    "git clone https://github.com/primetang/pylsd.git\n",
    "cd pylsd\n",
    "nano ./pylsd/lsd.py\n",
    "```\n",
    "\n",
    "- If anaconda environment variables are not used, the default 'python' command is enough\n",
    "- With nano, we need to change line 15 and 20 provoking an error with tmp file name\n",
    "\n",
    "```python\n",
    "# temp = os.path.abspath(str(np.random.randint(1, 1000000)) + 'ntl.txt').replace('\\\\', '/')\n",
    "temp = os.path.abspath(str(np.random.randint(1, 1000000)) + 'ntl.txt').replace('\\\\', '/').encode('utf-8')\n",
    "\n",
    "# lsdlib.lsdGet(src, ctypes.c_int(rows), ctypes.c_int(cols), temp)\n",
    "lsdlib.lsdGet(src, ctypes.c_int(rows), ctypes.c_int(cols), ctypes.c_char_p(temp))\n",
    "```\n",
    "\n",
    "- Then, we will launch the python script for installation. We need to use the python command corresponding to the correct anaconda environment variable or the python 3.6 command (Careful to the path set up for 'python' cmd)\n",
    "\n",
    "```bash\n",
    "path/to/Annaconda/environement/python setup.py install\n",
    "```"
   ]
  },
  {
   "cell_type": "code",
   "execution_count": null,
   "metadata": {
    "pycharm": {
     "is_executing": false
    }
   },
   "outputs": [],
   "source": [
    "import numpy as np                     # Numerical algorithms on arrays\n",
    "import cv2                             # OpenCV\n",
    "from matplotlib import pyplot as plt   # Plot library\n",
    "import matplotlib.cm as cm             # Image color map \n",
    "import edge_detector as ed             # A edge detector\n",
    "import segment_detector as sd          # A segment detector\n",
    "import edge_classifier as ec           # A edge classifier\n",
    "import imgTools                        # A image tools"
   ]
  },
  {
   "cell_type": "markdown",
   "metadata": {},
   "source": [
    "##   1.1. Loading and displaying OpenCV images"
   ]
  },
  {
   "cell_type": "code",
   "execution_count": null,
   "metadata": {
    "pycharm": {
     "is_executing": false
    }
   },
   "outputs": [],
   "source": [
    "# Load images\n",
    "building = cv2.imread('image_database/Building.png')\n",
    "building_gray = cv2.imread('image_database/Building.png', cv2.IMREAD_GRAYSCALE)\n",
    "road_gray = cv2.imread('image_database/Road.png', cv2.IMREAD_GRAYSCALE)\n",
    "road = cv2.imread('image_database/Road.png')"
   ]
  },
  {
   "cell_type": "code",
   "execution_count": null,
   "metadata": {
    "pycharm": {
     "is_executing": false
    },
    "scrolled": true
   },
   "outputs": [],
   "source": [
    "def display(title, img, width=15, height=15):\n",
    "    return imgTools.display(title, img, width, height)\n",
    "\n",
    "def multiDisplay(titles, imgs, imgPerLine, width=15, height=15):\n",
    "    return imgTools.multiDisplay(titles, imgs, imgPerLine, width, height)\n",
    "\n",
    "# Display the image\n",
    "multiDisplay(['Color image', 'Color image displayed in grayscale'], [building, road_gray], 2)"
   ]
  },
  {
   "cell_type": "markdown",
   "metadata": {},
   "source": [
    "## 1.2. Edge points extraction"
   ]
  },
  {
   "cell_type": "markdown",
   "metadata": {},
   "source": [
    "### 1.2.1 Morphological Gradient of Beucher"
   ]
  },
  {
   "cell_type": "markdown",
   "metadata": {},
   "source": [
    "Test different sizes of kernel. Nothing seems to be working well. The method is dropped without further research."
   ]
  },
  {
   "cell_type": "code",
   "execution_count": null,
   "metadata": {
    "pycharm": {
     "is_executing": false
    },
    "scrolled": true
   },
   "outputs": [],
   "source": [
    "# Choose the kernel for the Gradient of Beucher\n",
    "from ipywidgets import interact, fixed\n",
    "\n",
    "def update(kSize=2):\n",
    "    imgs = []\n",
    "    names = []\n",
    "    for img in [building_gray, road_gray] : \n",
    "        img_edges = ed.gradientOfBeucher(img, kSize, kSize)\n",
    "        imgs.append(img_edges)\n",
    "        names.append('Edge extraction using Morphological Gradient of Beucher')\n",
    "    multiDisplay(names, imgs, 2, width=15, height=10)\n",
    "\n",
    "interact(update, kSize = (0, 20, 1))\n",
    "\n",
    "GRADIENT_K_SIZE = 2"
   ]
  },
  {
   "cell_type": "markdown",
   "metadata": {},
   "source": [
    "### 1.2.2 Non linear Laplacian"
   ]
  },
  {
   "cell_type": "code",
   "execution_count": null,
   "metadata": {
    "scrolled": true
   },
   "outputs": [],
   "source": [
    "# Choose the kernel for the Gradient of Beucher\n",
    "from ipywidgets import interact, fixed\n",
    "\n",
    "\n",
    "def update(kSize=2):\n",
    "    imgs = []\n",
    "    names = []\n",
    "    for img in [building_gray, road_gray] : \n",
    "        img_edges = ed.nonLinearLaplacian(img, kernel_type=cv2.MORPH_RECT, k1=kSize, k2=kSize)\n",
    "        imgs.append(img_edges)\n",
    "        names.append('Edge extraction using non linear Laplacian')\n",
    "    multiDisplay(names, imgs, 2, width=15, height=10)\n",
    "\n",
    "interact(update, kSize = (0, 20, 1))\n",
    "\n",
    "gradient_k_size = 2"
   ]
  },
  {
   "cell_type": "markdown",
   "metadata": {
    "pycharm": {
     "name": "#%% md\n"
    }
   },
   "source": [
    "### 1.2.3 Canny algorithm\n",
    "\n",
    "Canny is a popular edge detection algorithm developed by John F. Canny.\n",
    "It is composed of 4 steps.\n",
    "\n",
    "- Apply noise reduction filter ( Gaussian 5x5)\n",
    "- Use Sobel kernel to obtain the first derivative gradients in the two \n",
    "main axis ( $G_{x}$ and $G_{y}$ ) and compute for each pixel the edge gradient and direction\n",
    "\n",
    " $ EdgeGradient(x,y) = \\sqrt{G_{x} + G_{y}}$\n",
    " \n",
    " $ Direction(x) = tan^{-1}(\\frac{G_{y}}{G_{x}})$ (rounded to 4 directions)\n",
    " \n",
    "- For each pixel, check if it is a local maximum in direction of the gradient. If not, discard it.\n",
    "We obtain the 'thin edges'\n",
    "\n",
    "- All the thin edges with an edge gradient above the maximum threshold value are the 'sure edges', and so kept.\n",
    "All the thin edges below the minmum threshold are discarded.\n",
    "The thin edges between the values are kept only if there are connected to 'sure edges'\n",
    "The result, the 'strong edges' is what the algorithm sent.\n",
    "\n",
    "We try four versions, with different kind of preprocessing.\n",
    "The parameters tuned are the threshold values (only in vanilla version, because there are computed automaticaly using the \n",
    "image median), the sobel kernel size and the kernel size of the gaussian/median blur.\n",
    "\n",
    "The results are globally good, better than the previous methods if well tuned. We see that for some types of images \n",
    "with a lot of vegetation, the version\n",
    "with a gaussian blur applied to a downsized image gives better results. But in images\n",
    "where there are clear vanishing lines in the border of the image, the median blur version\n",
    "gives better results. For small to moderate levels of Gaussian noise, the median filter is demonstrably better than \n",
    "Gaussian blur at removing noise whilst preserving edges for a given, fixed window size. \n"
   ]
  },
  {
   "cell_type": "code",
   "execution_count": null,
   "metadata": {
    "pycharm": {
     "is_executing": false,
     "name": "#%%\n"
    },
    "scrolled": false
   },
   "outputs": [],
   "source": [
    "for img in [building_gray, road_gray] : \n",
    "    img_edges_vanilla = ed.canny_vanilla(img)\n",
    "    img_edges_gaussian = ed.canny_gaussian_blur(img)\n",
    "    img_edges_gaussian_down = ed.canny_gaussian_blur_downsize(img)\n",
    "    img_edges_median_blur = ed.canny_median_blur(img)\n",
    "    \n",
    "    multiDisplay(['Vanilla', 'Gaussian', 'Gaussian Downsizing', 'Median'], \n",
    "                 [img_edges_vanilla, img_edges_gaussian, img_edges_gaussian_down,\n",
    "                  img_edges_median_blur], 2, height=10)"
   ]
  },
  {
   "cell_type": "markdown",
   "metadata": {},
   "source": [
    "## 1.3. Segments and endpoints detection"
   ]
  },
  {
   "cell_type": "markdown",
   "metadata": {},
   "source": [
    "### 1.3.1. Probabilistic Hough Transform\n",
    "\n",
    "The hough transform consist to find geometrical shapes by using their mathematical description. \n",
    "A line can be described in polar system by $(r,\\theta)$.\n",
    "For each pixel of the image (x,y) we can compute the values of r in function of $\\theta$\n",
    "(We consider only a finite number of possible values of r and $\\theta$ ).\n",
    "We do that for all pixels of the images and accumulate the results. At the end we check \n",
    "what values $(r,\\theta)$ as been encountered by many (x,y). Graphically we compute\n",
    "the plot of function of $(r,\\theta)$ for each (x,y) and check the intersections.\n",
    "If many curves intersects in the same point in the  $(r,\\theta)$ space it means\n",
    "that a lot of (x,y) points can be crossed by a $(r,\\theta)$ line. If the number of points\n",
    "is superior to a certain threshold we consider that this tuple describe a line in the image.\n",
    "\n",
    "We obtain so a certain number of lines $(r,\\theta)$.\n",
    "\n",
    "The probabilistic Hough transform is a modified version of the Hough transform.\n",
    "Instead of taking all points of the input image into account, it takes only a random subset.\n"
   ]
  },
  {
   "cell_type": "code",
   "execution_count": null,
   "metadata": {
    "pycharm": {
     "is_executing": false
    },
    "scrolled": false
   },
   "outputs": [],
   "source": [
    "img_edges, lines_p, img_edges_segment, img_segment = sd.segHough(building, sd.edgesDetectionFinal, rho=1, theta=np.pi / 180, thresh=20, minLineLen=15,\n",
    "                                       maxLineGap=4, kSize=2)\n",
    "multiDisplay(['Segment detection - Probabilistic Hough transform', \n",
    "              'Segment detection - Probabilistic Hough transform - with previous edges'], \n",
    "             [img_segment, img_edges_segment], 2)"
   ]
  },
  {
   "cell_type": "markdown",
   "metadata": {
    "pycharm": {
     "name": "#%% md\n"
    }
   },
   "source": [
    "### 1.3.2 Line Segment Detection algorithm\n",
    "\n",
    "**How to install pylsd binding**\n",
    "cf. first cell with import.\n",
    "\n",
    "\n",
    "\n",
    "**LSD algorithm**\n",
    "\n",
    "LSD is a algorithm initially written by french researchers  (Grompone R. & al) in C++ and openCV alongside a paper publish in the IPOL journal (\"LSD: a Line Segment Detector\", 2012) . It consists in a set of operation designed to work on most of grey images without required parameters tuning. We have used the given Python C++ binding (**pylsd**)\n",
    "\n",
    "The algorithm consist in several defined steps:\n",
    "\n",
    "**Image scaling:** At first, LSD proceed to a 80% scaling of the input image. This results in a 36% reduction in number of pixel. This is useful to reduce noise (relating to gradient threshold for edge candidates) and to avoid aliasing and quantification artifacts, especially the staircase effect. The scale factor was empirically chosen to resolve the staircase effect. The sub-sampling of the image is done by a Gaussian kernel of $\\sigma=0.75$, according to the paper, this sigma value is a good trade-off between avoiding aliasing and avoiding image blurring.\n",
    "\n",
    "**Gradient computation:** The main goal is to state the orientation and the magnitude of colour gradient for each pixel. To do so, the algorithm proceed to a simple 2x2 size kernel operation and define the x and y gradients, orientation and magnitude as follow ( i(x,y) => grey level of pixel (x,y) ):\n",
    "\n",
    "$G_x(x,y)=\\frac{i(x+1,y) + i(x+1,y+1) - i(x,y) - i(x,y+1)}{2}$\n",
    "\n",
    "$G_y(x,y)=\\frac{i(x,y+1) + i(x+1,y+1) - i(x,y) - i(x+1,y)}{2}$   \n",
    "\n",
    "$\\text{level-line angle = }arctan(\\frac{G_x(x,y)}{-G_y(x,y)})$\n",
    "\n",
    "$\\text{Magnitude = } \\sqrt{G^2_x(x,y) + G^2_y(x,y)}$\n",
    "\n",
    "When the magnitudes are known, the less significant ones under a given threshold are dropped because they are considered as slow edge or flat zones. The algorithm then focus directly on the edges.  \n",
    "\n",
    "**Region Growing:** It starts with the highest gradient pixel and proceed to an 8-neighbours flooding recursive call. All the pixels in the neighbour having the same orientation than the current proceeding region up to given tolerance (22.5°) are added to the region. At the end, the region will be composed of a group of pixel and will be surround by a rectangle to draw the line segment. The region orientation is initialised by the first pixel level-line angle. Then, each time a pixel is added, it updates its orientation with the following formula.\n",
    "\n",
    "$\\text{new region orientation = } arctan(\\frac{\\sum_{(x,y)\\in Neighbour}sin(level-line-angle_{(x,y)})}{\\sum_{(x,y)\\in Neighbour} cos(level-line-angle_{(x,y)}})$\n",
    "\n",
    "**Rectangular Approximation:** The determined regions are treated individually as solid object. The centre of mass of a region is computed with the magnitudes of the corresponding pixels. The dimensions of the rectangle are chosen to be the smallest possible dimensions containing all the region pixel. We can make an analogy with the \"Mecanique des matériaux\" course, the orientation of the rectangle is chosen to make it having the smallest inertia to rotation possible (according to the main axis, orientation). It corresponds to the angle of the eigenvector associated with the smallest eigenvalue of the matrix:\n",
    "\n",
    "$M=(\\begin{matrix}m_{xx}&m_{xy} \\\\ m_{yx}&m_{yy} \\end{matrix})$ with \n",
    "\n",
    "$\\mu(x,y) = \\text{Magnitude of the pixel width = x, height = y}$\n",
    "\n",
    "$\\text{Center of mass = }(c_x, c_y) = (\\frac{\\sum_{(x,y)\\in Region} [\\mu (x,y) . x] }{\\sum_{(x,y)\\in Region} \\mu (x,y)}, \\frac{\\sum_{(x,y)\\in Region} [\\mu (x,y) . y] }{\\sum_{(x,y)\\in Region} \\mu (x,y)})$\n",
    "\n",
    "$m_{xx} = \\frac{\\sum_{(x,y)\\in Region} [\\mu (x,y) . (x - c_x)^2] }{\\sum_{(x,y)\\in Region} \\mu (x,y)}$ \n",
    "\n",
    "$m_{yy} = \\frac{\\sum_{(x,y)\\in Region} [\\mu (x,y) . (y - c_y)^2] }{\\sum_{(x,y)\\in Region} \\mu (x,y)}$ \n",
    "\n",
    "$m_{xy} = \\frac{\\sum_{(x,y)\\in Region} [\\mu (x,y) . (x - c_x)(y - c_y)] }{\\sum_{(x,y)\\in Region} \\mu (x,y)}$ \n",
    "\n",
    "$\\text{Note: Moment Inertia of \"sub-square\" = } m_i*(\\text{distance to center of mass})^2 $\n",
    "\n",
    "**Complexity:** The overall algorithm has a linear complexity because each step describes above visit all pixel to proceed to a constant complexity operation or has a complexity bounded by the number of pixel in the image.\n",
    "\n",
    "**Internal parameters:** There are several internal parameters in LSD, the one from the previous explanation are the following: S,$\\Sigma$,$\\rho$ and $\\pi$. S is the scaling factor which is set at 80%. $\\Sigma$ is the parameters which will defined the Gaussian subsampling. $\\sigma = \\frac{\\Sigma}{S}$, because of that $\\Sigma = 0.6$. $\\pi$ is the degree tolerence used in the region growing process. $\\rho$ is the gradient threshold under which pixel are dropped for processing, it's recommanded value is around 6.\n",
    "\n",
    "**Limitation:** One of the possible limitation which is due to its 2x2 kernel gradient size is the presence of slow edge, it tends to correct it with the down subling but some scenario could still give problem. Light shadow on a white wall for instance.\n",
    "Their is also limitation about curves. After rectangular approximation, the algoritm proceed to a validation based on points aligned. If the image is composed of similar curves and no lines, then the algorithm will match the curves will very small tangent line segments. Another limitation related to the image representation. The algorithm works with image opened in grey scale mode (1 value per pixel \\[0, 255\\]). When the image is converted into grey scale, we can lose information about color edges and we will never detect them with gradient computation. Pure red to pure Green for instance."
   ]
  },
  {
   "cell_type": "code",
   "execution_count": null,
   "metadata": {
    "pycharm": {
     "is_executing": false,
     "name": "#%%\n"
    },
    "scrolled": false
   },
   "outputs": [],
   "source": [
    "# import lsd algorithm\n",
    "from LSD import lsd_alg\n",
    "\n",
    "multiDisplay(['Line Segment Detection with LSD - Road', \n",
    "              'Line Segment Detection with LSD - Building'], \n",
    "             [lsd_alg(road)[1], lsd_alg(building)[1]], 2)\n",
    "\n",
    "multiDisplay(['Line Segment Detection with LSD - Road 1 pixel width forced', \n",
    "              'Line Segment Detection with LSD - Building 1 pixel width forced'], \n",
    "             [lsd_alg(road, line_width=1)[1], lsd_alg(building, line_width=1)[1]], 2)"
   ]
  },
  {
   "attachments": {
    "part1_project_Hough_space.png": {
     "image/png": "[encoded data removed]"
    }
   },
   "cell_type": "markdown",
   "metadata": {},
   "source": [
    "### 1.3.3 Fusing adjacent segments\n",
    "\n",
    "The segment detection used previously is not prefect. One of the imprefection lays in the fact of mutliple segments drawn close to each other to describe the same unique edge. In order to solve this problem, 'close segments' will be fused together.\n",
    "\n",
    "The segments detected are given in the cartesian space with its two endpoints which makes it difficult to characterize the closeness of two edges. In contrast, the Hough space can easily describe the distance between two segments and fuse them if needed. Thus, the idea of the algorithm is to map the segments in a variant of the Hough space, fuse all close segments then map the segments back to the cartesian space.\n",
    "\n",
    "#### Mapping from cartesian to a variant of the Hough space\n",
    "\n",
    "Let's take the example of one segment described by the two points: $A = (a_v, a_h)$ and $B = (b_v, b_h)$ where $(i,j)$ is the point with $i$ in vertical value and $j$ in horizontal values and the origin is fixed at the top left corner of the image.\n",
    "\n",
    "The Hough space will be described by 4 values : $\\theta, \\rho, p, d$\n",
    "\n",
    "![part1_project_Hough_space.png](attachment:part1_project_Hough_space.png)\n",
    "\n",
    "By convention, $A$ will be such that $a_h < b_h$.\n",
    "\n",
    "**Computing $\\theta$**\n",
    "\n",
    "$$\\theta = arctan \\Big(\\frac{|b_v - a_v|}{|b_h-a_h|} \\Big)$$\n",
    "\n",
    "Then we want to have $\\theta \\in ]\\pi/2, \\pi [$ if the slope of the line is decreasing, thus : \n",
    "\n",
    "$$\\theta_{final} = \\pi - \\theta \\quad \\text{ if $a_v < b_v$}$$\n",
    "\n",
    "**Computing $\\rho$**\n",
    "\n",
    "$$\\rho = \\frac{|| \\overrightarrow{AB} \\times \\overrightarrow{OA} ||}{|| \\overrightarrow{AB} ||}$$\n",
    "\n",
    "$\\rho$ must be lower than zero  when $c_h < 0$. However, $c_h$ has not been computed yet. Thus, the intersection between the line and $x = 0$ will be computed instead. If, this point has a horizontal value lower than 0, it means $c_h < 0$ and thus $\\rho < 0$. \n",
    "\n",
    "$$\\quad \\left\\{\n",
    "    \\begin{array}{ll}\n",
    "      y = mx+n \\\\\n",
    "      x  = 0\n",
    "    \\end{array}\n",
    "  \\right.$$ \n",
    "$$\\Leftrightarrow \\left\\{\n",
    "    \\begin{array}{ll}\n",
    "      y = \\frac{a_h-b_h}{a_v-b_v}x+(a_h - a_v \\frac{a_h-b_h}{a_v-b_v}) \\\\\n",
    "      x  = 0\n",
    "    \\end{array}\n",
    "  \\right.$$ \n",
    "$$\\Leftrightarrow \\left\\{\n",
    "    \\begin{array}{ll}\n",
    "      y = a_h - a_v \\frac{a_h-b_h}{a_v-b_v} \\\\\n",
    "      x  = 0\n",
    "    \\end{array}\n",
    "  \\right.$$ \n",
    "\n",
    "Thus, $$\\rho_{final} = - \\rho \\quad \\text{ if $a_h - a_v \\frac{a_h-b_h}{a_v-b_v} < 0$}$$\n",
    "\n",
    "\n",
    "**Computing C**\n",
    "$$c_v = \\rho * cos(\\theta)$$\n",
    "$$c_h = \\rho * sin(\\theta)$$\n",
    "\n",
    "**Computing $p$ and $d$**\n",
    "$$p = \\left\\{\n",
    "        \\begin{array}{ll}\n",
    "          -sign(c_h-a_h) * ||\\overrightarrow{AC}|| & \\text{ if } a_h < b_h \\text{ or } (a_h = b_h \\text{ & } a_v > b_v) \\\\\n",
    "          -sign(c_h-b_h) * ||\\overrightarrow{BC}|| & \\text{ else }\n",
    "        \\end{array}\n",
    "      \\right.$$\n",
    "$$d = ||\\overrightarrow{AB}||$$\n",
    "\n",
    "\n",
    "#### Mapping back from the variant of the Hough space to  the cartesian space\n",
    "This action allows to go back in the cartesian space after fusing the close segments.\n",
    "\n",
    "**Computing C**\n",
    "$$c_v = \\rho * cos(\\theta)$$\n",
    "$$c_h = \\rho * sin(\\theta)$$\n",
    "\n",
    "**Computing A and B**\n",
    "$$A : \\left\\{\n",
    "        \\begin{array}{ll}\n",
    "          a_v =  c_v - sign(\\frac{\\pi}{2}-\\theta) * p * sin(\\theta)\\\\\n",
    "          a_h =  c_h + sign(\\frac{\\pi}{2}-\\theta) * p * cos(\\theta)\n",
    "        \\end{array}\n",
    "      \\right.$$\n",
    "$$B : \\left\\{\n",
    "        \\begin{array}{ll}\n",
    "          b_v = c_v - sign(\\frac{\\pi}{2}-\\theta) * (p+d) * sin(\\theta) \\\\\n",
    "          b_h = c_h + sign(\\frac{\\pi}{2}-\\theta) * (p+d) * cos(\\theta)\n",
    "        \\end{array}\n",
    "      \\right.$$\n",
    "\n",
    "#### Fusing two segments\n",
    "Two segments will be fused together if they fulfill the conditions below:\n",
    "\n",
    "$$\\left\\{\n",
    "        \\begin{array}{ll}\n",
    "          \\Big| \\theta_1-\\theta_2\\Big| \\leq \\Delta_{\\theta}\\\\\n",
    "          \\Big| \\rho_1-\\rho_2\\Big| \\leq \\Delta_{\\rho}\\\\\n",
    "          \\Big( p_1 \\leq p_2 \\quad \\text{ & } \\quad p_1+d_1 > p_2 \\Big) \\text{ or }\n",
    "\t\t\t\t    \\Big( p_2 \\leq p_1  \\quad \\text{ & } \\quad  p_2+d_2 > p_1 \\Big)\n",
    "        \\end{array}\n",
    "      \\right.$$\n",
    "\n",
    "The two first conditions are restricting the orientation and position of the lines extending the segments while the last one restrict the position of the segment on the line.\n",
    "\n",
    "\n",
    "Then to fuse two segments, the two segments are removed and a new one is created with the following values:\n",
    "\n",
    "$$\\left\\{\n",
    "        \\begin{array}{ll}\n",
    "          \\theta_n = \\frac{\\theta_1+\\theta_2}{2}\\\\\n",
    "          \\rho_n = \\frac{\\rho_1+\\rho_2}{2}\\\\\n",
    "          p_n = min(p_1, p_2)\\\\\n",
    "          d_n = max(p_1+d_1, p_2+d_2) - p_n\n",
    "        \\end{array}\n",
    "      \\right.$$\n",
    "\n"
   ]
  },
  {
   "cell_type": "code",
   "execution_count": null,
   "metadata": {
    "scrolled": false
   },
   "outputs": [],
   "source": [
    "img_edges, lines_p, img_edges_segment, img_segment = sd.segHough(building_gray, sd.edgesDetectionFinal, rho=1, theta=np.pi / 180, thresh=20, \n",
    "                                      minLineLen=15, maxLineGap=4, kSize=2)\n",
    "\n",
    "def update(dRho=1, dTheta=1/360*np.pi*2):\n",
    "    img_edges2, lines_p2, img_edges_segment2, img_segment2 = sd.segHough(building_gray, sd.edgesDetectionFinal, rho=1, theta=np.pi / 180, thresh=20, \n",
    "                                             minLineLen=15, maxLineGap=4, kSize=2, fuse=True, dTheta=dTheta,\n",
    "                                             dRho = dRho)\n",
    "    multiDisplay([f\"Segments with previously detected edges - {len(lines_p)} segments\", \n",
    "                  f\"Segments with previously detected edges - {len(lines_p2)} segments - segments fused\",\n",
    "                  f\"Segments - {len(lines_p)} segments\",\n",
    "                  f\"Segments - {len(lines_p2)} segments - segments fused\"],\n",
    "                 [img_edges_segment, img_edges_segment2, img_segment, img_segment2], 2, height=10)\n",
    "    #display(f\"Segments - {len(lines_p2)} segments - segments fused\",\n",
    "    #         img_edges_segment2)\n",
    "\n",
    "interact(update, dRho = (0,10,1), dTheta = (1/360*np.pi*2, 20/360*np.pi*2, 1/360*np.pi*2))"
   ]
  },
  {
   "cell_type": "markdown",
   "metadata": {},
   "source": [
    "## 1.4. Segments and endpoints classification\n",
    "\n",
    "The technique used consist in a simple matrix manipulation.\n",
    "Considering $E$ a matrix of size $m*n$ representing the image containing the edges (0 if not edge, 255 if edge)\n",
    "and $S$ a matrix of the same size representing the image containing the segments\n",
    "(1 if the pixel belong to as segment, 0 is not). We obtain $ES$ the matrix with all edges belonging to a segment and\n",
    "$ENS$ the matrix with all the other edges by this calculation :\n",
    "\n",
    "$ES = E.*S$ and $ENS = E .- ES$ (unitary multiplication and subtraction)"
   ]
  },
  {
   "cell_type": "code",
   "execution_count": null,
   "metadata": {
    "scrolled": false
   },
   "outputs": [],
   "source": [
    "img_edges_segment, img_edges, img_line_edges, img_not_line_edges = ec.edge_classifier(building_gray)\n",
    "multiDisplay(['Segment classification - pixels being Segments', 'Segment classification - pixels being pixels being Edges',\n",
    "              'Segment classification - pixels being Segment and Edges', 'Segment classification - pixels being Edges not represented by segments'],\n",
    "             [img_edges_segment, img_edges, img_line_edges, img_not_line_edges], 2, height=10)\n"
   ]
  },
  {
   "cell_type": "markdown",
   "metadata": {},
   "source": [
    "## 1.5. Evaluation on databases"
   ]
  },
  {
   "cell_type": "code",
   "execution_count": null,
   "metadata": {
    "scrolled": true
   },
   "outputs": [],
   "source": [
    "# Getting the images\n",
    "\n",
    "import os\n",
    "sudoku = []\n",
    "sudokuBgr = []\n",
    "soccer = []\n",
    "road = []\n",
    "pcb = []\n",
    "building = []\n",
    "buildingBgr = []\n",
    "\n",
    "sudokuFolder = 'image_database/sudoku'\n",
    "soccerFolder = 'image_database/soccer'\n",
    "roadFolder = 'image_database/road'\n",
    "pcbFolder = 'image_database/pcb'\n",
    "buildingFolder = 'image_database/building'\n",
    "\n",
    "sudokuNames = sorted([img for img in os.listdir(sudokuFolder) if img.endswith(\".png\")]) # ref : https://www.geeksforgeeks.org/python-create-video-using-multiple-images-using-opencv/\n",
    "for name in sudokuNames:\n",
    "   sudoku.append(cv2.imread(sudokuFolder+'/'+name, cv2.IMREAD_GRAYSCALE))\n",
    "   sudokuBgr.append(cv2.imread(sudokuFolder+'/'+name))\n",
    "\n",
    "soccerNames = sorted([img for img in os.listdir(soccerFolder) if img.endswith(\".png\")]) # ref : https://www.geeksforgeeks.org/python-create-video-using-multiple-images-using-opencv/\n",
    "for name in soccerNames:\n",
    "   soccer.append(cv2.imread(soccerFolder+'/'+name))\n",
    "\n",
    "roadNames = sorted([img for img in os.listdir(roadFolder) if img.endswith(\".png\")]) # ref : https://www.geeksforgeeks.org/python-create-video-using-multiple-images-using-opencv/\n",
    "for name in roadNames:\n",
    "   road.append(cv2.imread(roadFolder+'/'+name, cv2.IMREAD_GRAYSCALE))\n",
    "\n",
    "buildingNames = sorted([img for img in os.listdir(buildingFolder) if img.endswith(\".png\")]) # ref : https://www.geeksforgeeks.org/python-create-video-using-multiple-images-using-opencv/\n",
    "for name in buildingNames:\n",
    "   building.append(cv2.imread(buildingFolder+'/'+name, cv2.IMREAD_GRAYSCALE))\n",
    "   buildingBgr.append(cv2.imread(buildingFolder+'/'+name))\n",
    "\n",
    "pcbNames = sorted([img for img in os.listdir(pcbFolder) if img.endswith(\".png\")]) # ref : https://www.geeksforgeeks.org/python-create-video-using-multiple-images-using-opencv/\n",
    "for name in pcbNames:\n",
    "   pcb.append(cv2.imread(pcbFolder+'/'+name, cv2.IMREAD_GRAYSCALE))"
   ]
  },
  {
   "cell_type": "markdown",
   "metadata": {},
   "source": [
    "### 1.5.1. Sudoku\n",
    "\n",
    "For the sudoku dataset, the LSD algorithm already worked fine. The only problem was that thick lines of the image were detected as two lines (one for each border). To remove this problem, we use the fuse segment algorithm described earlier. This has the advantage of having less segments. However, fusing the segment also means losing a bit of information as the fused segment will be an average of the segments. However, this is negligeable in this dataset.\n",
    "\n",
    "As end result, the grid is almost perfectly shown and even some numbers are well detected. This is a very satisfaying result."
   ]
  },
  {
   "cell_type": "code",
   "execution_count": null,
   "metadata": {
    "scrolled": true
   },
   "outputs": [],
   "source": [
    "dispNames = []\n",
    "dispImgs = []\n",
    "\n",
    "for i in range(3):\n",
    "    img2, lines2, segWithEdge2, seg2 = sd.segmentDetectorFinal(sudokuBgr[i], dataset='sudoku', lineWidth=2)\n",
    "    dispNames.append(f\"{sudokuNames[i]} - {len(lines2)} segments\")\n",
    "    dispImgs.append(seg2)\n",
    "    \n",
    "multiDisplay(dispNames, dispImgs, 3, width=30, height=15)"
   ]
  },
  {
   "cell_type": "markdown",
   "metadata": {},
   "source": [
    "### 1.5.2. Soccer\n",
    "\n",
    "The main idea used for the soccer dataset was to notice that all the interesting data is on the field that has a green background. Since we want the white lines, a region of the HSV domain is extracted corresponding to green hues, low saturations and high values. This image is then converted back to BGR and given to the LSD algorithm. HSV extraction makes it easy to exclude the public and some players.\n",
    "\n",
    "Additional treatment could be provided to merge the segments together and keep only those that really represent a line of the field."
   ]
  },
  {
   "cell_type": "code",
   "execution_count": null,
   "metadata": {
    "scrolled": true
   },
   "outputs": [],
   "source": [
    "import LSD as lsd\n",
    "\n",
    "for i in range(10):    \n",
    "    # Hsv extraction\n",
    "    img = soccer[i]\n",
    "    hsv = cv2.cvtColor(img, cv2.COLOR_BGR2HSV)\n",
    "    low = np.array([30, 0, 150])\n",
    "    upp = np.array([90, 70, 255])\n",
    "    mask = cv2.inRange(hsv, low, upp)\n",
    "    img_mask = cv2.bitwise_and(img, img, mask=mask)\n",
    "    ret = cv2.cvtColor(img_mask, cv2.COLOR_HSV2BGR)\n",
    "    # LSD\n",
    "    lines, drawing, _ = lsd.lsd_alg(ret)\n",
    "    display(f\"{soccerNames[i]} - {len(lines)} segments\", drawing)"
   ]
  },
  {
   "cell_type": "markdown",
   "metadata": {},
   "source": [
    "### 1.5.3. Road\n",
    "\n",
    "For this dataset, it was tried to extract only the area of the road but it did not succeed. The idea was to fit 3 gaussians on the histogram of the grayscale image. A hypothesis was then made: the gaussian on the white side represented the sky, the grey side the road and the black side the shaded areas and the shoulders of the road. Some results were not bad, but a flood algorithm was used to determine the road contour and it was very detailed. One would have liked to simplify it as a polygon but did not succeed. The results available in the images below are therefore a simple use of the Hough algorithm."
   ]
  },
  {
   "cell_type": "code",
   "execution_count": null,
   "metadata": {
    "scrolled": true
   },
   "outputs": [],
   "source": [
    "for i in range(10):\n",
    "    img2, lines2, segWithEdge2, seg2 = sd.segHough(road[i], sd.edgesDetectionFinal, rho=1, theta=np.pi / 180, thresh=20, \n",
    "                                             minLineLen=15, maxLineGap=4, kSize=2, fuse=True, dTheta=1/360*np.pi*2,\n",
    "                                             dRho = 2)\n",
    "    display(f\"{roadNames[i]} - {len(lines2)} segments\",seg2)"
   ]
  },
  {
   "cell_type": "markdown",
   "metadata": {},
   "source": [
    "### 1.5.4. Pcb"
   ]
  },
  {
   "cell_type": "code",
   "execution_count": null,
   "metadata": {
    "scrolled": true
   },
   "outputs": [],
   "source": [
    "for i in range(10):\n",
    "    img2, lines2, segWithEdge2, seg2 = sd.segHough(pcb[i], sd.edgesDetectionFinal, rho=1, theta=np.pi / 180, thresh=20, \n",
    "                                             minLineLen=15, maxLineGap=4, kSize=2, fuse=True, dTheta=2/360*np.pi*2,\n",
    "                                             dRho = 2)\n",
    "    display(f\"{pcbNames[i]} - {len(lines2)} segments\",seg2)"
   ]
  },
  {
   "cell_type": "markdown",
   "metadata": {},
   "source": [
    "### 1.5.5. Building\n",
    "The LSD algorithm send back results which are good enough to recognise building and windows borders. To get the main orientation of the building, we tried a hierarchical clustering with scikit-learn. The objectif was to agglomerate lines with similar orientation. To do so, we fixed the number of clustering to 4 with a cosine similarity measure and an average linkage. The input vector is the $\\Delta x$ and the $\\Delta y$ of each line segments by LSD. The deltas were modified to have their orientation (direction) in the 1st and 4th quadrants. We used 4 clusters because their is a discountinuity between 90° and - 90°, this results most of the time in two big clusters around these values. We also try to balance the weight of each input by putting some of them several time. According to the ratio between their euclidean distance and the euclidean distance of the image diagonal. \n",
    "\n",
    "When we observe the result, we have most of the time 2 clusters for each main axis (width and height axis). Because the \"labels\" (x,y and z axis + noise label) represent an unbalanced classification problem. Even if some lines represent the building depth, the algorithm will prefer to create a second cluster for the width axis. It is even more unbalanced with noise (road, roof, wall straight line pattern, unaligned neighbour building, etc). Another problem encounter is related to the angle of the picture. When the picture was taken in front of the building, it is then easier. But when it is taken from the side, the horizontal lines from the building front converge and then their orientation value diverge from each other. \n",
    "\n",
    "To improve it, we need a method which allow computing distances in a \"circular\" range, to avoid discontinuity. Or determined a custom distance matrix. In order to recompute the missing orientation, it can be possible to make a guess with an heuristic method using only the two first orientation."
   ]
  },
  {
   "cell_type": "code",
   "execution_count": null,
   "metadata": {
    "scrolled": true
   },
   "outputs": [],
   "source": [
    "from LSD import lsd_alg\n",
    "from LSD import lsd_getAxis\n",
    "\n",
    "for i in range(10):\n",
    "    img2, lines2, segWithEdge2, seg2 = sd.segHough(building[i], sd.edgesDetectionFinal, rho=1, theta=np.pi / 180, thresh=20, \n",
    "                                             minLineLen=15, maxLineGap=4, kSize=2, fuse=True, dTheta=1/360*np.pi*2,\n",
    "                                             dRho = 2)\n",
    "    display(f\"{buildingNames[i]} - {len(lines2)} segments\",seg2)\n",
    "\n",
    "for i in range(10):\n",
    "    print(\"Orientation (in degrees) and cluster size for picture \" + str(i))\n",
    "    tmp1, tmp2 = lsd_getAxis(buildingBgr[i])\n",
    "    print(tmp1)\n",
    "    print(tmp2)\n",
    "    print()\n",
    "    lines, result_lines, result_points = lsd_alg(buildingBgr[i])\n",
    "    display(f\"{buildingNames[i]} - {len(lines)} segments\",result_lines)"
   ]
  },
  {
   "cell_type": "code",
   "execution_count": null,
   "metadata": {},
   "outputs": [],
   "source": []
  }
 ],
 "metadata": {
  "kernelspec": {
   "display_name": "Python 3",
   "language": "python",
   "name": "python3"
  },
  "language_info": {
   "codemirror_mode": {
    "name": "ipython",
    "version": 3
   },
   "file_extension": ".py",
   "mimetype": "text/x-python",
   "name": "python",
   "nbconvert_exporter": "python",
   "pygments_lexer": "ipython3",
   "version": "3.6.9"
  },
  "pycharm": {
   "stem_cell": {
    "cell_type": "raw",
    "metadata": {
     "collapsed": false
    },
    "source": []
   }
  }
 },
 "nbformat": 4,
 "nbformat_minor": 2
}
